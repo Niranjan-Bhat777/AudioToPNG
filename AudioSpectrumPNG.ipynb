{
 "cells": [
  {
   "cell_type": "code",
   "execution_count": 2,
   "id": "dfc59780",
   "metadata": {},
   "outputs": [
    {
     "data": {
      "text/plain": [
       "CompletedProcess(args=['curl', 'https://pitt.box.com/shared/static/z73eked7quh1t2pp93axzrrpq6wwydx0.wav', '-L', '-o', '1min_audio.wav'], returncode=0)"
      ]
     },
     "execution_count": 2,
     "metadata": {},
     "output_type": "execute_result"
    }
   ],
   "source": [
    "import subprocess\n",
    "subprocess.run(['curl',\n",
    "               'https://pitt.box.com/shared/static/z73eked7quh1t2pp93axzrrpq6wwydx0.wav', \n",
    "                '-L', '-o', '1min_audio.wav'])"
   ]
  },
  {
   "cell_type": "code",
   "execution_count": 17,
   "id": "1db5aed8",
   "metadata": {},
   "outputs": [
    {
     "name": "stdout",
     "output_type": "stream",
     "text": [
      "./1min_audio.wav\n"
     ]
    }
   ],
   "source": [
    "audio_filename = './1min_audio.wav'\n",
    "print(audio_filename)"
   ]
  },
  {
   "cell_type": "code",
   "execution_count": 6,
   "id": "814b910d",
   "metadata": {},
   "outputs": [
    {
     "name": "stderr",
     "output_type": "stream",
     "text": [
      "C:\\Users\\hnira\\anaconda3\\lib\\site-packages\\paramiko\\transport.py:219: CryptographyDeprecationWarning: Blowfish has been deprecated\n",
      "  \"class\": algorithms.Blowfish,\n"
     ]
    }
   ],
   "source": [
    "from opensoundscape.audio import Audio\n",
    "from opensoundscape.spectrogram import Spectrogram"
   ]
  },
  {
   "cell_type": "code",
   "execution_count": 7,
   "id": "01b43b41",
   "metadata": {},
   "outputs": [],
   "source": [
    "from pathlib import Path\n",
    "\n",
    "# Settings\n",
    "image_shape = (224, 224) #(height, width) not (width, height)\n",
    "image_save_path = Path('./saved_spectrogram.png')\n",
    "\n",
    "# Load audio file as Audio object\n",
    "audio = Audio.from_file(audio_filename)\n",
    "\n",
    "# Create Spectrogram object from Audio object\n",
    "spectrogram = Spectrogram.from_audio(audio)\n",
    "\n",
    "# Convert Spectrogram object to Python Imaging Library (PIL) Image\n",
    "image = spectrogram.to_image(shape=image_shape,invert=True)\n",
    "\n",
    "# Save image to file\n",
    "image.save(image_save_path)"
   ]
  },
  {
   "cell_type": "code",
   "execution_count": 8,
   "id": "1810e6e2",
   "metadata": {},
   "outputs": [],
   "source": [
    "Spectrogram.from_audio(Audio.from_file(audio_filename)).to_image(shape=image_shape,invert=True).save(image_save_path)"
   ]
  },
  {
   "cell_type": "code",
   "execution_count": 9,
   "id": "aee6c5cd",
   "metadata": {},
   "outputs": [],
   "source": [
    "Spectrogram.from_audio(Audio.from_file(audio_filename)).to_image(shape=image_shape,invert=True).save(image_save_path)"
   ]
  },
  {
   "cell_type": "code",
   "execution_count": 10,
   "id": "120ee1de",
   "metadata": {},
   "outputs": [],
   "source": [
    "image_save_path.unlink()\n"
   ]
  },
  {
   "cell_type": "code",
   "execution_count": 18,
   "id": "2babefc6",
   "metadata": {},
   "outputs": [
    {
     "name": "stdout",
     "output_type": "stream",
     "text": [
      "<Audio(samples=(1920000,), sample_rate=32000)>\n"
     ]
    }
   ],
   "source": [
    "audio_object = Audio.from_file(audio_filename)\n",
    "print(audio_object)"
   ]
  },
  {
   "cell_type": "code",
   "execution_count": 12,
   "id": "5eeb9dd5",
   "metadata": {},
   "outputs": [
    {
     "data": {
      "text/plain": [
       "1.0"
      ]
     },
     "execution_count": 12,
     "metadata": {},
     "output_type": "execute_result"
    }
   ],
   "source": [
    "audio_segment = Audio.from_file(audio_filename,offset=2.0,duration=1.0)\n",
    "audio_segment.duration"
   ]
  },
  {
   "cell_type": "code",
   "execution_count": 13,
   "id": "e28c9e97",
   "metadata": {},
   "outputs": [
    {
     "name": "stdout",
     "output_type": "stream",
     "text": [
      "How many samples does this audio object have? 1920000\n",
      "What is the sampling rate? 32000\n"
     ]
    }
   ],
   "source": [
    "print(f\"How many samples does this audio object have? {len(audio_object.samples)}\")\n",
    "print(f\"What is the sampling rate? {audio_object.sample_rate}\")"
   ]
  },
  {
   "cell_type": "code",
   "execution_count": 14,
   "id": "51c384af",
   "metadata": {},
   "outputs": [
    {
     "data": {
      "text/plain": [
       "22050"
      ]
     },
     "execution_count": 14,
     "metadata": {},
     "output_type": "execute_result"
    }
   ],
   "source": [
    "audio_object_resample = Audio.from_file(audio_filename, sample_rate=22050)\n",
    "audio_object_resample.sample_rate"
   ]
  },
  {
   "cell_type": "code",
   "execution_count": 15,
   "id": "e53cba2a",
   "metadata": {},
   "outputs": [],
   "source": [
    "from datetime import datetime; import pytz\n",
    "\n",
    "start_time = pytz.timezone('UTC').localize(datetime(2020,4,4,10,25))\n",
    "audio_length = 5 #seconds  \n",
    "path = '/path/to/audiomoth_recording.WAV' #an AudioMoth recording"
   ]
  },
  {
   "cell_type": "code",
   "execution_count": 16,
   "id": "59187c52",
   "metadata": {},
   "outputs": [],
   "source": [
    "audio_object.save('./my_audio.wav')"
   ]
  },
  {
   "cell_type": "code",
   "execution_count": null,
   "id": "48d55226",
   "metadata": {},
   "outputs": [],
   "source": []
  }
 ],
 "metadata": {
  "kernelspec": {
   "display_name": "Python 3 (ipykernel)",
   "language": "python",
   "name": "python3"
  },
  "language_info": {
   "codemirror_mode": {
    "name": "ipython",
    "version": 3
   },
   "file_extension": ".py",
   "mimetype": "text/x-python",
   "name": "python",
   "nbconvert_exporter": "python",
   "pygments_lexer": "ipython3",
   "version": "3.9.13"
  }
 },
 "nbformat": 4,
 "nbformat_minor": 5
}
